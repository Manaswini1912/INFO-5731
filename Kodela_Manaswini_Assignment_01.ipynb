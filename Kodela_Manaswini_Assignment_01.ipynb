{
  "cells": [
    {
      "cell_type": "markdown",
      "metadata": {
        "id": "view-in-github",
        "colab_type": "text"
      },
      "source": [
        "<a href=\"https://colab.research.google.com/github/Manaswini1912/INFO-5731/blob/main/Kodela_Manaswini_Assignment_01.ipynb\" target=\"_parent\"><img src=\"https://colab.research.google.com/assets/colab-badge.svg\" alt=\"Open In Colab\"/></a>"
      ]
    },
    {
      "cell_type": "markdown",
      "metadata": {
        "id": "Ryk8D1Q4Wsrp"
      },
      "source": [
        "# **INFO5731 Assignment One**"
      ]
    },
    {
      "cell_type": "markdown",
      "metadata": {
        "id": "qcP6re2g5A5r"
      },
      "source": [
        "This assignment includes range of programming tasks and data analysis exercises, aiming to enhance your Python skills and proficiency in string manipulation, numerical computations, and data science. Follow the instructions carefully and design well-structured Python programs to address each question.\n",
        "\n",
        "Late Submission will have a penalty of 10% reduction for each day after the deadline."
      ]
    },
    {
      "cell_type": "markdown",
      "metadata": {
        "id": "JkzR8cFAyGik"
      },
      "source": [
        "# Question 1 (10 points).\n",
        "\n",
        "The formula that describes the volume V of a hemisphere with radius r is the following:\n",
        "\n",
        "$ V=\\frac{2}{3}\\ast\\ \\pi\\ast\\ r^3 $\n",
        "\n",
        "Write a program to calculate the value of V when r is in the range of even numbers from 1-20. Output the result in the following format:\n",
        "\n",
        "\tr\tV\n",
        "\t2\t…\n",
        "\t4\t…\n",
        "\t6\t…\n",
        "\t.\n",
        "\t.\n",
        "\t.\n",
        "\t20\t…\n"
      ]
    },
    {
      "cell_type": "code",
      "execution_count": null,
      "metadata": {
        "colab": {
          "base_uri": "https://localhost:8080/"
        },
        "id": "jDyTKYs-yGit",
        "outputId": "72cb6ddb-6244-484b-c728-dc6644cefe0c"
      },
      "outputs": [
        {
          "name": "stdout",
          "output_type": "stream",
          "text": [
            "r    V\n",
            "2    16.755160819145562\n",
            "4    134.0412865531645\n",
            "6    452.38934211693015\n",
            "8    1072.330292425316\n",
            "10    2094.3951023931954\n",
            "12    3619.114736935441\n",
            "14    5747.0201609669275\n",
            "16    8578.642339402528\n",
            "18    12214.512237157114\n",
            "20    16755.160819145563\n"
          ]
        }
      ],
      "source": [
        "import math\n",
        "\n",
        "def calculate_volume(radius):\n",
        "    return (2/3) * math.pi * radius**3\n",
        "\n",
        "# Print the header\n",
        "print(\"r    V\")\n",
        "\n",
        "# Loop through even values of r from 2 to 20\n",
        "for r in range(2, 21, 2):\n",
        "    volume = calculate_volume(r)\n",
        "    print(f\"{r}    {volume}\")\n",
        "\n",
        "\n"
      ]
    },
    {
      "cell_type": "markdown",
      "metadata": {
        "id": "90_NR8c5XGWc"
      },
      "source": [
        "# Question 2 (20 points)\n",
        "\n",
        "(a) Write a Python program to generate a sequence of 12 random numbers falling within the range of 50 to 150.\n",
        "\n",
        "(b) Arrange the generated numbers in ascending order. Display the sorted list.\n",
        "\n",
        "(c) Extend the program to arrange the numbers in descending order as well. Present the sorted list accordingly.\n",
        "\n",
        "(d) Compute and output the average of the entire group of generated numbers.\n",
        "\n",
        "(e) Enhance the program to calculate and display the average of the first 6 numbers from both the ascending and descending sorted lists."
      ]
    },
    {
      "cell_type": "code",
      "execution_count": null,
      "metadata": {
        "colab": {
          "base_uri": "https://localhost:8080/"
        },
        "id": "5QX6bJjGWXY9",
        "outputId": "d5fd0668-dbd5-4a99-c278-da4c218157a8"
      },
      "outputs": [
        {
          "name": "stdout",
          "output_type": "stream",
          "text": [
            "Generated random numbers: [104, 77, 84, 123, 64, 51, 125, 55, 114, 63, 51, 148]\n",
            "Sorted list (asc order): [51, 51, 55, 63, 64, 77, 84, 104, 114, 123, 125, 148]\n",
            "Sorted list (desc order): [148, 125, 123, 114, 104, 84, 77, 64, 63, 55, 51, 51]\n",
            "Average of the entire group: 88.25\n",
            "Sorted list (asc order): [51, 64, 77, 84, 104, 123]\n",
            "Sorted list (desc order): [123, 104, 84, 77, 64, 51]\n"
          ]
        }
      ],
      "source": [
        "import random\n",
        "\n",
        "def generate_random_numbers():\n",
        "    # Generate a sequence of 12 random numbers in the range of 50 to 150\n",
        "    random_numbers = [random.randint(50, 150) for _ in range(12)]\n",
        "    return random_numbers\n",
        "\n",
        "def display_sorted_list(numbers, order):\n",
        "    # Display the sorted list in the specified order\n",
        "    sorted_numbers = sorted(numbers, reverse=(order == 'desc'))\n",
        "    print(f'Sorted list ({order} order): {sorted_numbers}')\n",
        "\n",
        "def calculate_average(numbers):\n",
        "    # Calculate and output the average of the numbers\n",
        "    average = sum(numbers) / len(numbers)\n",
        "    print(f'Average of the entire group: {average:.2f}')\n",
        "    return average\n",
        "\n",
        "def main():\n",
        "    # (a)\n",
        "    random_numbers = generate_random_numbers()\n",
        "    print(f'Generated random numbers: {random_numbers}')\n",
        "\n",
        "    # (b)\n",
        "    display_sorted_list(random_numbers, order='asc')\n",
        "\n",
        "    # (c)\n",
        "    display_sorted_list(random_numbers, order='desc')\n",
        "\n",
        "    # (d)\n",
        "    average_of_all = calculate_average(random_numbers)\n",
        "\n",
        "    # (e)\n",
        "    # Calculate and display the average of the first 6 numbers from both ascending and descending sorted lists\n",
        "    display_sorted_list(random_numbers[:6], order='asc')\n",
        "    display_sorted_list(random_numbers[:6], order='desc')\n",
        "\n",
        "if __name__ == \"__main__\":\n",
        "    main()\n",
        "\n",
        "\n"
      ]
    },
    {
      "cell_type": "markdown",
      "metadata": {
        "id": "1F_PZdH9Sh49"
      },
      "source": [
        "# Question 3 (20 points).\n",
        "\n",
        "Create a Python program that encompasses various string manipulation task:\n",
        "\n",
        "(a) Prompt the user to input two sentences.\n",
        "\n",
        "(b) Transform each sentence into a list, where each element corresponds to a word in the sentence. For example, if the sentences are \"Hello, how are you doing today?\" and \"This is an example sentence for the program!\"\n",
        "\n",
        "The program should output:\n",
        "['Hello', ',', 'how', 'are', 'you', 'doing', 'today', '?', 'This', 'is', 'an', 'example', 'sentence', 'for', 'the', 'program', '!']\n",
        "\n",
        "(c) Compare the two sentences. Print out a list of words that occur in both sentences.\n",
        "\n",
        "(d) Remove any punctuation from the sentence and print the sanitized sentences. It should remove at least the following characters, but it can remove more: period(“.”), comma (“,”), semicolon (“;”), and colon (“:”).\n",
        "\n",
        "(e) Count the number of vowels in each of the sentences. Print out each vowel and the occurrences  in the each of the two sentences separately, such as:\n",
        "\n",
        "Sentence1: a:2, e:2, i:0, etc.\n",
        "Sentence2: a:1, e:2, i:2, etc.\n",
        "\n",
        "Design a well-structured Python program to execute these tasks efficiently."
      ]
    },
    {
      "cell_type": "code",
      "execution_count": null,
      "metadata": {
        "colab": {
          "base_uri": "https://localhost:8080/"
        },
        "id": "Y0oOSlsOS0cq",
        "outputId": "951a7c25-4c5a-4671-d477-f84291a557cb"
      },
      "outputs": [
        {
          "name": "stdout",
          "output_type": "stream",
          "text": [
            "Enter the first sentence:  Nature is so beautiful\n",
            "Enter the second sentence: I love to watch movies\n",
            "Combined words: ['Nature', 'is', 'so', 'beautiful', 'I', 'love', 'to', 'watch', 'movies']\n",
            "Common words: ['Nature', 'watch', 'I', 'beautiful', 'love', 'movies', 'is', 'to', 'so']\n",
            "Sanitized Sentence1:  Nature is so beautiful\n",
            "Sanitized Sentence2: I love to watch movies\n",
            "Sentence1: a:2, e:2, i:2, o:1, u:3\n",
            "Sentence2: a:1, e:2, i:2, o:3, u:0\n"
          ]
        }
      ],
      "source": [
        "import string\n",
        "\n",
        "def input_sentences():\n",
        "    # input two sentences\n",
        "    sentence1 = input(\"Enter the first sentence: \")\n",
        "    sentence2 = input(\"Enter the second sentence: \")\n",
        "    return sentence1, sentence2\n",
        "\n",
        "def sentences_to_word_lists(sentence1, sentence2):\n",
        "    # Transform each sentence into a list of words\n",
        "    words1 = sentence1.split()\n",
        "    words2 = sentence2.split()\n",
        "    combined_words = words1 + words2\n",
        "    return combined_words\n",
        "\n",
        "def common_words(words1, words2):\n",
        "    #  Compare the two sentences and print common words\n",
        "    common = set(words1) & set(words2)\n",
        "    print(f'Common words: {list(common)}')\n",
        "\n",
        "def remove_punctuation(sentence):\n",
        "    # Remove punctuation from the sentence\n",
        "    translator = str.maketrans(\"\", \"\", string.punctuation)\n",
        "    sanitized_sentence = sentence.translate(translator)\n",
        "    return sanitized_sentence\n",
        "\n",
        "def count_vowels(sentence, sentence_number):\n",
        "    # Count the number of vowels in each sentence\n",
        "    vowels = \"aeiou\"\n",
        "    vowel_count = {vowel: 0 for vowel in vowels}\n",
        "\n",
        "    for char in sentence:\n",
        "        if char.lower() in vowels:\n",
        "            vowel_count[char.lower()] += 1\n",
        "\n",
        "    print(f'Sentence{sentence_number}: {\", \".join(f\"{vowel}:{count}\" for vowel, count in vowel_count.items())}')\n",
        "\n",
        "def main():\n",
        "    #  (a)\n",
        "    sentence1, sentence2 = input_sentences()\n",
        "\n",
        "    #  (b)\n",
        "    combined_words = sentences_to_word_lists(sentence1, sentence2)\n",
        "    print(f'Combined words: {combined_words}')\n",
        "\n",
        "    #  (c)\n",
        "    common_words(combined_words, combined_words)\n",
        "\n",
        "    # (d)\n",
        "    sanitized_sentence1 = remove_punctuation(sentence1)\n",
        "    sanitized_sentence2 = remove_punctuation(sentence2)\n",
        "    print(f'Sanitized Sentence1: {sanitized_sentence1}')\n",
        "    print(f'Sanitized Sentence2: {sanitized_sentence2}')\n",
        "\n",
        "    # (e)\n",
        "    count_vowels(sentence1, 1)\n",
        "    count_vowels(sentence2, 2)\n",
        "\n",
        "if __name__ == \"__main__\":\n",
        "    main()\n",
        "\n",
        "\n"
      ]
    },
    {
      "cell_type": "markdown",
      "metadata": {
        "id": "OP4-5qxAtInv"
      },
      "source": [
        "# Question 4 (20 Points)"
      ]
    },
    {
      "cell_type": "markdown",
      "metadata": {
        "id": "uzN4_hDptK9U"
      },
      "source": [
        "Design and implement a simple command-line calculator program. The program should handle both integers and floating-point numbers.\n",
        "\n",
        "(a) Write program that takes a mathematical expression as input and evaluates it. The program should support addition, subtraction, multiplication, and division.\n",
        "\n",
        "(b) Extend the calculator to handle parentheses in mathematical expressions. Implement the necessary logic to evaluate expressions with nested parentheses.\n",
        "\n",
        "(c) Enhance your calculator to include additional mathematical operations such as exponentiation, square root, and modulus.\n",
        "\n",
        "(d) Implement error handling in the calculator program. Handle cases such as division by zero and invalid input expressions. Provide meaningful error messages.\n",
        "\n",
        "(e) Implement a command to exit the calculator."
      ]
    },
    {
      "cell_type": "code",
      "execution_count": 2,
      "metadata": {
        "colab": {
          "base_uri": "https://localhost:8080/"
        },
        "id": "8nQnVxjJuYtu",
        "outputId": "34ef2423-75b8-4223-eab0-263521009809"
      },
      "outputs": [
        {
          "output_type": "stream",
          "name": "stdout",
          "text": [
            "Simple Command-Line Calculator\n",
            "Type 'exit' to end the calculator.\n",
            "Enter a mathematical expression: 2%5\n",
            "Result: 0.001990049751243781\n",
            "Enter a mathematical expression: 68+56-63\n",
            "Result: 61\n",
            "Enter a mathematical expression: 5/0\n",
            "Result: Error: Division by zero\n",
            "Enter a mathematical expression: exit\n",
            "Exiting the calculator. Goodbye!\n"
          ]
        }
      ],
      "source": [
        "import math\n",
        "\n",
        "def evaluate_expression(expression):\n",
        "    try:\n",
        "        # Evaluate a mathematical expression\n",
        "        result = eval(expression)\n",
        "        return result\n",
        "    except ZeroDivisionError:\n",
        "        # Handle division by zero\n",
        "        return \"Error: Division by zero\"\n",
        "    except Exception as e:\n",
        "        #  Handle invalid input expressions\n",
        "        return f\"Error: {e}\"\n",
        "\n",
        "def handle_parentheses(expression):\n",
        "    # Handle parentheses in mathematical expressions\n",
        "    while \"(\" in expression:\n",
        "        start_index = expression.rfind(\"(\")\n",
        "        end_index = expression.find(\")\", start_index)\n",
        "        if start_index != -1 and end_index != -1:\n",
        "            sub_expression = expression[start_index + 1:end_index]\n",
        "            result = evaluate_expression(sub_expression)\n",
        "            expression = expression[:start_index] + str(result) + expression[end_index + 1:]\n",
        "    return expression\n",
        "\n",
        "def additional_operations(expression):\n",
        "    # Include additional mathematical operations\n",
        "    expression = expression.replace(\"^\", \"**\")  # Exponentiation\n",
        "    expression = expression.replace(\"sqrt\", \"math.sqrt\")  # Square root\n",
        "    expression = expression.replace(\"%\", \"/100\")  # Modulus\n",
        "    return expression\n",
        "\n",
        "def calculator():\n",
        "    print(\"Simple Command-Line Calculator\")\n",
        "    print(\"Type 'exit' to end the calculator.\")\n",
        "\n",
        "    while True:\n",
        "        user_input = input(\"Enter a mathematical expression: \")\n",
        "\n",
        "        # Part (e): Exit the calculator\n",
        "        if user_input.lower() == 'exit':\n",
        "            print(\"Exiting the calculator. Goodbye!\")\n",
        "            break\n",
        "\n",
        "        # Process the expression\n",
        "        expression = user_input.replace(\" \", \"\")\n",
        "        expression = handle_parentheses(expression)\n",
        "        expression = additional_operations(expression)\n",
        "\n",
        "        # Evaluate the expression\n",
        "        result = evaluate_expression(expression)\n",
        "        print(f\"Result: {result}\")\n",
        "\n",
        "if __name__ == \"__main__\":\n",
        "    calculator()\n"
      ]
    },
    {
      "cell_type": "markdown",
      "metadata": {
        "id": "z3tBE7E-Xn5X"
      },
      "source": [
        "# Question 5 (30 points).\n",
        "\n",
        "In the field of Data Science, data is often formatted as a comma-delimited (CSV) file, where each line in a file corresponds to a field's value. Refer to Chapter 9 (p. 106) for more information on comma-delimited files.\n",
        "\n",
        "To answer this question, you will need to download the file [Assignment1_denton_housing.csv](https://raw.githubusercontent.com/unt-iialab/info5731-spring2022/main/assignments/Assignment1_denton_housing.csv) included with this assignment. The file contains statistics about housing in the city of Denton from 2008 to 2014. Write a program to implement the following questions.\n",
        "\n",
        "(a) (5 pts) Calculate the difference in the number of Occupied Housing Units from year to year and print it. The difference must be calculated for the consecutive years such as 2008-2009, 2009-2010 etc. Finally, print the values in the ascending order.\n",
        "\n",
        "(b) (5 pts) For all the years, calculate the percentage of housing units which are vacant an occupied. Print the results in the following format:\n",
        "\n",
        "Year Vacant Housing Units Occupied Housing Units\n",
        "\n",
        "    2008  30%   70%                          \n",
        "\t2009 ----- -----\n",
        "\t2010 ----- -----\n",
        "    2011 ----- -----\n",
        "\t2012 ----- -----\n",
        "    2013 ----- -----\n",
        "\t2014 ----- -----\n",
        "  \n",
        "  \n",
        "\n",
        "(c) (10 pts) Calculate and print the valued and years in which the highest number of housing units were vacant and occupied. Print the results in the following format:  \n",
        "\n",
        "                              Year\tValue\n",
        "\tVacant Housing Units\t  -----   -----\n",
        "\tOccupied Housing Units\t-----   -----\n",
        "\n",
        "(d) (10 pts) Calculate the harmonic mean of the total housing units and print it out. You can find the information about harmonic mean here: https://ncalculators.com/statistics/harmonic-mean-calculator.htm"
      ]
    },
    {
      "cell_type": "code",
      "execution_count": 15,
      "metadata": {
        "id": "lqGYuHBhcsRH",
        "colab": {
          "base_uri": "https://localhost:8080/"
        },
        "outputId": "2c382031-c9c8-47f4-dfdb-c74210e24979"
      },
      "outputs": [
        {
          "output_type": "stream",
          "name": "stdout",
          "text": [
            "Year Difference in Occupied Housing Units:\n",
            "2008-2009: -795\n",
            "2009-2010: 5091\n",
            "2010-2011: -303\n",
            "2011-2012: 1404\n",
            "2012-2013: 1565\n",
            "2013-2014: 2622\n",
            "\n",
            "(b) Percentage of housing units which are vacant and occupied:\n",
            "Year\tVacant Housing Units\tOccupied Housing Units\n",
            "2008\t10.88%\t\t\t89.12%\n",
            "2009\t9.07%\t\t\t90.93%\n",
            "2010\t8.14%\t\t\t91.86%\n",
            "2011\t9.38%\t\t\t90.62%\n",
            "2012\t6.68%\t\t\t93.32%\n",
            "2013\t8.80%\t\t\t91.20%\n",
            "2014\t5.73%\t\t\t94.27%\n",
            "\n",
            "(c) Year and value of highest number of vacant and occupied housing units:\n",
            "Year\t\tValue\n",
            "Vacant Housing Units\t2008\t\t4483\n",
            "Occupied Housing Units\t2014\t\t46295\n",
            "\n",
            "(d) Harmonic mean of the total housing units: 44398.28543969185\n"
          ]
        }
      ],
      "source": [
        "import pandas as pd\n",
        "file_path = '/content/Assignment1_denton_housing.csv'\n",
        "def load_data(file_path):\n",
        "    return pd.read_csv(file_path)\n",
        "\n",
        "\n",
        "# Function to calculate the difference in the number of Occupied Housing Units from year to year\n",
        "def calculate_occupied_diff(data):\n",
        "    occupied_data = data[data['title_field'] == 'Occupied Housing Units'].sort_values(by='year')\n",
        "    occupied_diff = occupied_data['value'].diff().dropna().tolist()\n",
        "    return occupied_diff\n",
        "\n",
        "\n",
        "# Function to calculate the percentage of vacant and occupied housing units for each year\n",
        "def calculate_percentage(data):\n",
        "    years = sorted(data['year'].unique())\n",
        "    print(\"Year\\tVacant Housing Units\\tOccupied Housing Units\")\n",
        "    for year in years:\n",
        "        vacant_units = data[(data['year'] == year) & (data['title_field'] == 'Vacant Housing Units')]['value'].values[0]\n",
        "        occupied_units = data[(data['year'] == year) & (data['title_field'] == 'Occupied Housing Units')]['value'].values[0]\n",
        "        total_units = vacant_units + occupied_units\n",
        "        vacant_percentage = (vacant_units / total_units) * 100\n",
        "        occupied_percentage = (occupied_units / total_units) * 100\n",
        "        print(f\"{year}\\t{vacant_percentage:.2f}%\\t\\t\\t{occupied_percentage:.2f}%\")\n",
        "\n",
        "\n",
        "\n",
        "# Function to find the year and value of highest number of vacant and occupied housing units\n",
        "def find_max_values(data):\n",
        "    max_vacant = data[data['title_field'] == 'Vacant Housing Units']['value'].max()\n",
        "    max_occupied = data[data['title_field'] == 'Occupied Housing Units']['value'].max()\n",
        "    max_vacant_year = data[(data['value'] == max_vacant) & (data['title_field'] == 'Vacant Housing Units')]['year'].values[0]\n",
        "    max_occupied_year = data[(data['value'] == max_occupied) & (data['title_field'] == 'Occupied Housing Units')]['year'].values[0]\n",
        "    return max_vacant_year, max_vacant, max_occupied_year, max_occupied\n",
        "\n",
        "\n",
        "\n",
        "# Function to calculate the harmonic mean of the total housing units\n",
        "def calculate_harmonic_mean(total_units):\n",
        "    return len(total_units) / sum(1/x for x in total_units)\n",
        "\n",
        "if __name__ == \"__main__\":\n",
        "    file_path = '/content/Assignment1_denton_housing.csv'\n",
        "    data = load_data(file_path)\n",
        "\n",
        "    # Calculate the difference in the number of Occupied Housing Units from year to year\n",
        "    occupied_diff = calculate_occupied_diff(data)\n",
        "    print(\"Year Difference in Occupied Housing Units:\")\n",
        "    for year, diff in zip(range(2009, 2015), occupied_diff):\n",
        "        print(f\"{year-1}-{year}: {int(diff)}\")\n",
        "\n",
        "    # Calculate the percentage of vacant and occupied housing units for each year\n",
        "    print(\"\\n(b) Percentage of housing units which are vacant and occupied:\")\n",
        "    calculate_percentage(data)\n",
        "\n",
        "    # Find the year and value of highest number of vacant and occupied housing units\n",
        "    max_vacant_year, max_vacant, max_occupied_year, max_occupied = find_max_values(data)\n",
        "    print(\"\\n(c) Year and value of highest number of vacant and occupied housing units:\")\n",
        "    print(\"Year\\t\\tValue\")\n",
        "    print(f\"Vacant Housing Units\\t{max_vacant_year}\\t\\t{max_vacant}\")\n",
        "    print(f\"Occupied Housing Units\\t{max_occupied_year}\\t\\t{max_occupied}\")\n",
        "\n",
        "    # Calculate the harmonic mean of the total housing units\n",
        "    total_units = data[data['title_field'] == 'Total Housing Units']['value'].tolist()\n",
        "    harmonic_mean = calculate_harmonic_mean(total_units)\n",
        "    print(\"\\n(d) Harmonic mean of the total housing units:\", harmonic_mean)\n"
      ]
    },
    {
      "cell_type": "markdown",
      "metadata": {
        "id": "q8BFCvWp32cf"
      },
      "source": [
        "# Mandatory Question\n",
        "\n",
        "Provide your thoughts on the assignment. What did you find challenging, and what aspects did you enjoy? Your opinion on the provided time to complete the assignment. Share any suggestions for improvement. Your feedback will be valuable for enhancing the learning experience."
      ]
    },
    {
      "cell_type": "code",
      "execution_count": null,
      "metadata": {
        "id": "_e557s2w4BpK"
      },
      "outputs": [],
      "source": [
        "# Write your response below"
      ]
    }
  ],
  "metadata": {
    "colab": {
      "provenance": [],
      "include_colab_link": true
    },
    "kernelspec": {
      "display_name": "Python 3 (ipykernel)",
      "language": "python",
      "name": "python3"
    },
    "language_info": {
      "codemirror_mode": {
        "name": "ipython",
        "version": 3
      },
      "file_extension": ".py",
      "mimetype": "text/x-python",
      "name": "python",
      "nbconvert_exporter": "python",
      "pygments_lexer": "ipython3",
      "version": "3.9.12"
    }
  },
  "nbformat": 4,
  "nbformat_minor": 0
}