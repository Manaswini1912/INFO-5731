{
  "cells": [
    {
      "cell_type": "markdown",
      "metadata": {
        "id": "view-in-github",
        "colab_type": "text"
      },
      "source": [
        "<a href=\"https://colab.research.google.com/github/Manaswini1912/INFO-5731/blob/main/Kodela_Manaswini_Exercise_01.ipynb\" target=\"_parent\"><img src=\"https://colab.research.google.com/assets/colab-badge.svg\" alt=\"Open In Colab\"/></a>"
      ]
    },
    {
      "cell_type": "markdown",
      "metadata": {
        "id": "DymRJbxDBCnf"
      },
      "source": [
        "# **This first In-class-exercise cover a variety of fundamental concepts in Python and are designed to help individuals improve their coding skills and problem-solving abilities.**\n",
        "\n",
        "The submission is due on 01/31/2024 11:59 PM. This submission is worth 40 points in total.\n"
      ]
    },
    {
      "cell_type": "markdown",
      "source": [
        "(1) Write a Python program that  prompts the user to input the length and width of a rectangle, and then calculates and displays the area of the rectangle."
      ],
      "metadata": {
        "id": "FBKvD6O_TY6e"
      }
    },
    {
      "cell_type": "code",
      "source": [
        "def calculate_area(length, width):\n",
        "    rectangle_area = length * width\n",
        "    return rectangle_area\n",
        "\n",
        "def get_valid_float_input(prompt):\n",
        "    while True:\n",
        "        try:\n",
        "            value = float(input(prompt))\n",
        "            return value\n",
        "        except ValueError:\n",
        "            print(\"Please enter a valid numerical value.\")\n",
        "\n",
        "try:\n",
        "    length = get_valid_float_input(\"Enter the length of the rectangle: \")\n",
        "    width = get_valid_float_input(\"Enter the width of the rectangle: \")\n",
        "\n",
        "    # Calculating and displaying the area\n",
        "    rectangle_area = calculate_area(length, width)\n",
        "    print(f\"The area of the rectangle is: {rectangle_area}\")\n",
        "\n",
        "except Exception as e:\n",
        "    print(f\"An error occurred: {e}\")\n",
        "\n",
        "\n"
      ],
      "metadata": {
        "id": "cikVKDXdTbzE",
        "colab": {
          "base_uri": "https://localhost:8080/"
        },
        "outputId": "e5c46f36-321f-4c28-a86f-91b204f70eb6"
      },
      "execution_count": null,
      "outputs": [
        {
          "output_type": "stream",
          "name": "stdout",
          "text": [
            "Enter the length of the rectangle: 20\n",
            "Enter the width of the rectangle: 0\n",
            "The area of the rectangle is: 0.0\n"
          ]
        }
      ]
    },
    {
      "cell_type": "markdown",
      "source": [
        "(2) Create a Python program that interactively takes two numerical inputs from the user and swaps their values without utilizing an extra variable."
      ],
      "metadata": {
        "id": "E9RqrlwdTfvl"
      }
    },
    {
      "cell_type": "code",
      "source": [
        "# Function to take numerical input from the user\n",
        "def get_numerical_input(input_value):\n",
        "    while True:\n",
        "        try:\n",
        "            value = float(input(input_value))\n",
        "            return value\n",
        "        except ValueError:\n",
        "            print(\"Please enter a valid numerical value.\")\n",
        "\n",
        "# Function to swap two values without using an extra variable\n",
        "def swap_values_without_temp(a, b):\n",
        "    a = a + b\n",
        "    b = a - b\n",
        "    a = a - b\n",
        "    return a, b\n",
        "\n",
        "# Main program\n",
        "print(\"Enter the values of two numbers to swap:\")\n",
        "\n",
        "# Getting input from the user\n",
        "num1 = get_numerical_input(\"Enter the num1: \")\n",
        "num2 = get_numerical_input(\"Enter the num2: \")\n",
        "\n",
        "\n",
        "# Swapping values\n",
        "num1, num2 = swap_values_without_temp(num1, num2)\n",
        "\n",
        "print(f\"After swapping: num1 = {num1}, num2 = {num2}\")\n"
      ],
      "metadata": {
        "id": "4XvRknixTh1g",
        "colab": {
          "base_uri": "https://localhost:8080/"
        },
        "outputId": "b322e75a-dec1-485a-fd68-d2d1f189d515"
      },
      "execution_count": null,
      "outputs": [
        {
          "output_type": "stream",
          "name": "stdout",
          "text": [
            "Enter the values of two numbers to swap:\n",
            "Enter the num1: 256\n",
            "Enter the num2: 459\n",
            "After swapping: num1 = 459.0, num2 = 256.0\n"
          ]
        }
      ]
    },
    {
      "cell_type": "markdown",
      "metadata": {
        "id": "03jb4GZsBkBS"
      },
      "source": [
        "(3) Write a Python script to determine and print the length of a user-input string."
      ]
    },
    {
      "cell_type": "code",
      "execution_count": null,
      "metadata": {
        "id": "YaGLbSHHB8Ej",
        "colab": {
          "base_uri": "https://localhost:8080/"
        },
        "outputId": "1614fcc1-d007-4c3d-8ac7-b688905d0dbf"
      },
      "outputs": [
        {
          "output_type": "stream",
          "name": "stdout",
          "text": [
            "Enter a string to determine its length:\n",
            "Enter the string: manaswini\n",
            "The length of the string is: 9\n"
          ]
        }
      ],
      "source": [
        "# Function to get a valid string input from the user\n",
        "def get_string_input(prompt):\n",
        "    while True:\n",
        "        try:\n",
        "            user_input = input(prompt)\n",
        "            if not user_input:\n",
        "                raise ValueError(\"Input cannot be empty. Please enter a valid string.\")\n",
        "            return user_input\n",
        "        except ValueError as e:\n",
        "            print(f\"Error: {e}\")\n",
        "\n",
        "# Function to calculate and print the length of a string\n",
        "def print_string_length(input_string):\n",
        "    length = len(input_string)\n",
        "    print(f\"The length of the string is: {length}\")\n",
        "\n",
        "# Main program\n",
        "print(\"Enter a string to determine its length:\")\n",
        "\n",
        "# Getting input from the user with exception handling\n",
        "user_input_string = get_string_input(\"Enter the string: \")\n",
        "\n",
        "# Calculating and printing the length of the string\n",
        "print_string_length(user_input_string)\n",
        "\n",
        "\n"
      ]
    },
    {
      "cell_type": "markdown",
      "metadata": {
        "id": "jJDe71iLB616"
      },
      "source": [
        "(4) Construct a Python program that counts and displays the occurrences of each character in a given string.\n",
        "\n",
        "Sample String: 'openai.ai',\n",
        "\n",
        "Expected Result: {'a': 2, 'i': 2, '.': 1, 'o': 1, 'p': 1, 'e': 1, 'n': 1}"
      ]
    },
    {
      "cell_type": "code",
      "execution_count": null,
      "metadata": {
        "id": "MtKskTzbCLaU",
        "colab": {
          "base_uri": "https://localhost:8080/"
        },
        "outputId": "365cb5ef-5454-4302-8c33-2befdf683c0c"
      },
      "outputs": [
        {
          "output_type": "stream",
          "name": "stdout",
          "text": [
            "Enter a string to count character occurrences:\n",
            "Enter the string: manaswini\n",
            "Expected Result:\n",
            "{'m': 1, 'a': 2, 'n': 2, 's': 1, 'w': 1, 'i': 2, }\n"
          ]
        }
      ],
      "source": [
        "def get_valid_string_input(prompt):\n",
        "    while True:\n",
        "        try:\n",
        "            user_input = input(prompt)\n",
        "            if not user_input:\n",
        "                raise ValueError(\"Input cannot be empty. Please enter a valid string.\")\n",
        "            return user_input\n",
        "        except ValueError as e:\n",
        "            print(f\"Error: {e}\")\n",
        "\n",
        "def count_character_occurrences(input_string):\n",
        "    char_count = {}\n",
        "    for char in input_string:\n",
        "        if char in char_count:\n",
        "            char_count[char] += 1\n",
        "        else:\n",
        "            char_count[char] = 1\n",
        "    return char_count\n",
        "\n",
        "def display_character_occurrences(char_count):\n",
        "    print(\"Expected Result:\")\n",
        "    print(\"{\", end=\"\")\n",
        "    for char, count in char_count.items():\n",
        "        print(f\"'{char}': {count}, \", end=\"\")\n",
        "    print(\"}\")\n",
        "\n",
        "def main():\n",
        "    print(\"Enter a string to count character occurrences:\")\n",
        "    user_input_string = get_valid_string_input(\"Enter the string: \")\n",
        "\n",
        "    character_occurrences = count_character_occurrences(user_input_string)\n",
        "\n",
        "    display_character_occurrences(character_occurrences)\n",
        "\n",
        "if __name__ == \"__main__\":\n",
        "    main()\n"
      ]
    },
    {
      "cell_type": "markdown",
      "metadata": {
        "id": "55W9AMdXCSpV"
      },
      "source": [
        "(5) Design a Python code to calculate the sum of all elements in a user-provided list."
      ]
    },
    {
      "cell_type": "code",
      "execution_count": null,
      "metadata": {
        "id": "I57NXsauCec2",
        "colab": {
          "base_uri": "https://localhost:8080/"
        },
        "outputId": "58484245-bed5-4b35-d57a-df8d3e89de41"
      },
      "outputs": [
        {
          "output_type": "stream",
          "name": "stdout",
          "text": [
            "Enter a list of numbers separated by commas (e.g., 1, 2, 3): 5,9,6,15\n",
            "The sum of the list is: 35.0\n"
          ]
        }
      ],
      "source": [
        "def get_valid_list_input():\n",
        "    while True:\n",
        "        try:\n",
        "            user_input = input(\"Enter a list of numbers separated by commas (e.g., 1, 2, 3): \")\n",
        "            number_list = [float(num.strip()) for num in user_input.split(',')]\n",
        "            return number_list\n",
        "        except ValueError:\n",
        "            print(\"Invalid input. Please enter a valid list of numbers.\")\n",
        "\n",
        "def calculate_list_sum(number_list):\n",
        "    list_sum = sum(number_list)\n",
        "    return list_sum\n",
        "\n",
        "def main():\n",
        "    try:\n",
        "        # Get a valid list of numbers from the user\n",
        "        user_list = get_valid_list_input()\n",
        "\n",
        "        # Calculate and display the sum of the list\n",
        "        list_sum = calculate_list_sum(user_list)\n",
        "        print(f\"The sum of the list is: {list_sum}\")\n",
        "\n",
        "    except Exception as e:\n",
        "        print(f\"An error occurred: {e}\")\n",
        "\n",
        "if __name__ == \"__main__\":\n",
        "    main()\n"
      ]
    },
    {
      "cell_type": "markdown",
      "metadata": {
        "id": "4ulBZ6yhCi9F"
      },
      "source": [
        "(6) Write a Python program that modifies a given string by replacing all occurrences of its first character with '$', excluding the first character itself.\n",
        "\n",
        "\n",
        "Sample String : 'restart‘,\n",
        "\n",
        "Expected Result : 'resta\\$t'"
      ]
    },
    {
      "cell_type": "code",
      "execution_count": null,
      "metadata": {
        "id": "Fj0XhwbBCw2o",
        "colab": {
          "base_uri": "https://localhost:8080/"
        },
        "outputId": "6c703294-716c-40a8-e29b-1e619fd1ec9e"
      },
      "outputs": [
        {
          "output_type": "stream",
          "name": "stdout",
          "text": [
            "Enter a string: sarcastic\n",
            "Modified Result: sarca$tic\n"
          ]
        }
      ],
      "source": [
        "def replace_first_char(string):\n",
        "    if not string:\n",
        "        raise ValueError(\"Input string cannot be empty.\")\n",
        "\n",
        "    first_char = string[0]\n",
        "    modified_string = first_char + string[1:].replace(first_char, '$')\n",
        "    return modified_string\n",
        "\n",
        "def get_valid_string_input(prompt):\n",
        "    while True:\n",
        "        try:\n",
        "            user_input = input(prompt)\n",
        "            if not user_input:\n",
        "                raise ValueError(\"Input cannot be empty. Please enter a valid string.\")\n",
        "            return user_input\n",
        "        except ValueError as e:\n",
        "            print(f\"Error: {e}\")\n",
        "\n",
        "def main():\n",
        "    try:\n",
        "        # Get a valid string from the user\n",
        "        user_string = get_valid_string_input(\"Enter a string: \")\n",
        "\n",
        "        # Modify the string and display the result\n",
        "        modified_string = replace_first_char(user_string)\n",
        "        print(f\"Modified Result: {modified_string}\")\n",
        "\n",
        "    except Exception as e:\n",
        "        print(f\"An error occurred: {e}\")\n",
        "\n",
        "if __name__ == \"__main__\":\n",
        "    main()\n",
        "\n"
      ]
    },
    {
      "cell_type": "markdown",
      "source": [
        "(7) Write a Python program using a while loop to compute the factorial of a user-supplied number."
      ],
      "metadata": {
        "id": "qVXA3q7ET5JI"
      }
    },
    {
      "cell_type": "code",
      "source": [
        "def get_valid_positive_integer(prompt):\n",
        "    while True:\n",
        "        try:\n",
        "            user_input = int(input(prompt))\n",
        "            if user_input < 0:\n",
        "                raise ValueError(\"Please enter a non-negative integer.\")\n",
        "            return user_input\n",
        "        except ValueError:\n",
        "            print(\"Invalid input. Please enter a valid non-negative integer.\")\n",
        "\n",
        "def calculate_factorial(number):\n",
        "    factorial = 1\n",
        "    while number > 1:\n",
        "        factorial *= number\n",
        "        number -= 1\n",
        "    return factorial\n",
        "\n",
        "def main():\n",
        "    try:\n",
        "        # enter a  non-negative integer\n",
        "        user_number = get_valid_positive_integer(\"Enter a non-negative integer: \")\n",
        "\n",
        "        # Calculate and display the factorial\n",
        "        result = calculate_factorial(user_number)\n",
        "        print(f\"The factorial of {user_number} is: {result}\")\n",
        "\n",
        "    except Exception as e:\n",
        "        print(f\"An error occurred: {e}\")\n",
        "\n",
        "if __name__ == \"__main__\":\n",
        "    main()\n"
      ],
      "metadata": {
        "id": "Lbt7R6UkT7BA",
        "colab": {
          "base_uri": "https://localhost:8080/"
        },
        "outputId": "3c6c8c82-a57f-403f-c823-ff57657565dd"
      },
      "execution_count": null,
      "outputs": [
        {
          "output_type": "stream",
          "name": "stdout",
          "text": [
            "Enter a non-negative integer: 15\n",
            "The factorial of 15 is: 1307674368000\n"
          ]
        }
      ]
    },
    {
      "cell_type": "markdown",
      "source": [
        "(8) Create a program that accepts a list of numbers as input and outputs a new list containing only the even numbers."
      ],
      "metadata": {
        "id": "6YfbzXMNT--R"
      }
    },
    {
      "cell_type": "code",
      "source": [
        "def get_valid_list_input():\n",
        "    while True:\n",
        "        try:\n",
        "            user_input = input(\"Enter a list of numbers separated by commas: \")\n",
        "            number_list = [int(num.strip()) for num in user_input.split(',')]\n",
        "            return number_list\n",
        "        except ValueError:\n",
        "            print(\"Invalid input. Please enter a valid list of integers.\")\n",
        "\n",
        "def filter_even_numbers(input_list):\n",
        "    even_numbers = [num for num in input_list if num % 2 == 0]\n",
        "    return even_numbers\n",
        "\n",
        "def main():\n",
        "    try:\n",
        "        # Get a valid list of integers from the user\n",
        "        user_list = get_valid_list_input()\n",
        "\n",
        "        # Filter even numbers and display the result\n",
        "        even_numbers = filter_even_numbers(user_list)\n",
        "        print(f\"The even numbers in the list are: {even_numbers}\")\n",
        "\n",
        "    except Exception as e:\n",
        "        print(f\"An error occurred: {e}\")\n",
        "\n",
        "if __name__ == \"__main__\":\n",
        "    main()\n"
      ],
      "metadata": {
        "id": "54q7wMQPUAKu",
        "colab": {
          "base_uri": "https://localhost:8080/"
        },
        "outputId": "c8cc1528-46ec-40ae-ac02-093575f5c974"
      },
      "execution_count": null,
      "outputs": [
        {
          "output_type": "stream",
          "name": "stdout",
          "text": [
            "Enter a list of numbers separated by commas: 2,6,8,3,7,1\n",
            "The even numbers in the list are: [2, 6, 8]\n"
          ]
        }
      ]
    },
    {
      "cell_type": "markdown",
      "metadata": {
        "id": "_bIP7s1MCzue"
      },
      "source": [
        "\n",
        "(9) Design a Python function to check if a number is prime.\n"
      ]
    },
    {
      "cell_type": "code",
      "execution_count": null,
      "metadata": {
        "id": "w79QilHXD3Mg",
        "colab": {
          "base_uri": "https://localhost:8080/"
        },
        "outputId": "2fdb7410-4179-423e-f105-8f801448354e"
      },
      "outputs": [
        {
          "output_type": "stream",
          "name": "stdout",
          "text": [
            "Enter a positive integer greater than 0: 15\n",
            "15 is not a prime number.\n"
          ]
        }
      ],
      "source": [
        "def get_valid_positive_integer(input_value):\n",
        "    while True:\n",
        "        try:\n",
        "            user_input = int(input(input_value))\n",
        "            if user_input <= 0:\n",
        "                raise ValueError(\"Please enter a positive integer greater than 0.\")\n",
        "            return user_input\n",
        "        except ValueError:\n",
        "            print(\"Invalid input. Please enter a valid positive integer.\")\n",
        "\n",
        "def is_prime(number):\n",
        "    if number < 2:\n",
        "        return False\n",
        "    for i in range(2, int(number**0.5) + 1):\n",
        "        if number % i == 0:\n",
        "            return False\n",
        "    return True\n",
        "\n",
        "def main():\n",
        "    try:\n",
        "        # Get a valid positive integer\n",
        "        user_number = get_valid_positive_integer(\"Enter a positive integer greater than 0: \")\n",
        "\n",
        "        # Check if the number is prime and display the result\n",
        "        prime_result = is_prime(user_number)\n",
        "        if prime_result:\n",
        "            print(f\"{user_number} is a prime number.\")\n",
        "        else:\n",
        "            print(f\"{user_number} is not a prime number.\")\n",
        "\n",
        "    except Exception as e:\n",
        "        print(f\"An error occurred: {e}\")\n",
        "\n",
        "if __name__ == \"__main__\":\n",
        "    main()\n",
        "\n"
      ]
    },
    {
      "cell_type": "markdown",
      "metadata": {
        "id": "xCa2bK9aD4Q3"
      },
      "source": [
        "(10) Write a Python program to concatenate following dictionaries to create a new one.\n",
        "\n",
        "Sample Dictionary : dic1={1:10, 2:20}, dic2={3:30, 4:40}, dic3={5:50,6:60},\n",
        "\n",
        "Expected Result : {1: 10, 2: 20, 3: 30, 4: 40, 5: 50, 6: 60}\n"
      ]
    },
    {
      "cell_type": "code",
      "execution_count": null,
      "metadata": {
        "id": "_z4aLqAbEET1",
        "colab": {
          "base_uri": "https://localhost:8080/"
        },
        "outputId": "6f322fc9-5e3e-4b1e-d947-ac9e7f9be4fe"
      },
      "outputs": [
        {
          "output_type": "stream",
          "name": "stdout",
          "text": [
            "Enter the first dictionary : {1:10, 2:22}\n",
            "Enter the second dictionary : {3:33, 4:44}\n",
            "Enter the third dictionary :  {5:55, 6:66}\n",
            "The concatenated dictionary is: {1: 10, 2: 22, 3: 33, 4: 44, 5: 55, 6: 66}\n"
          ]
        }
      ],
      "source": [
        "def get_valid_dict_input(input_value):\n",
        "    while True:\n",
        "        try:\n",
        "            user_input = input(input_value)\n",
        "            dictionary = eval(user_input)\n",
        "            if not isinstance(dictionary, dict):\n",
        "                raise ValueError(\"Invalid input. Please enter a valid dictionary.\")\n",
        "            return dictionary\n",
        "        except (SyntaxError, ValueError):\n",
        "            print(\"Invalid input. Please enter a valid dictionary.\")\n",
        "\n",
        "def concatenate_dicts(*dicts):\n",
        "    result_dict = {}\n",
        "    for dictionary in dicts:\n",
        "        result_dict.update(dictionary)\n",
        "    return result_dict\n",
        "\n",
        "def main():\n",
        "    try:\n",
        "        # Get valid dictionaries from the user\n",
        "        dict1 = get_valid_dict_input(\"Enter the first dictionary : \")\n",
        "        dict2 = get_valid_dict_input(\"Enter the second dictionary : \")\n",
        "        dict3 = get_valid_dict_input(\"Enter the third dictionary : \")\n",
        "\n",
        "        # Concatenate dictionaries and display the result\n",
        "        result_dict = concatenate_dicts(dict1, dict2, dict3)\n",
        "        print(f\"The concatenated dictionary is: {result_dict}\")\n",
        "\n",
        "    except Exception as e:\n",
        "        print(f\"An error occurred: {e}\")\n",
        "\n",
        "if __name__ == \"__main__\":\n",
        "    main()\n",
        "\n"
      ]
    },
    {
      "cell_type": "markdown",
      "source": [
        "(11) Design a Python function that takes a tuple of integers as input and returns the largest and smallest elements."
      ],
      "metadata": {
        "id": "bkyZ2xSZUOst"
      }
    },
    {
      "cell_type": "code",
      "source": [
        "def get_valid_tuple_input(input_value):\n",
        "    while True:\n",
        "        try:\n",
        "            user_input = input(input_value)\n",
        "            input_tuple = tuple(map(int, user_input.split(',')))\n",
        "            return input_tuple\n",
        "        except (ValueError, TypeError):\n",
        "            print(\"Invalid input. Please enter a valid tuple of integers.\")\n",
        "\n",
        "def find_largest_and_smallest(input_tuple):\n",
        "    if not input_tuple:\n",
        "        raise ValueError(\"Tuple cannot be empty. Please enter a valid tuple of integers.\")\n",
        "\n",
        "    largest_num = smallest_num = input_tuple[0]\n",
        "\n",
        "    for num in input_tuple:\n",
        "        if num > largest_num:\n",
        "            largest_num = num\n",
        "        elif num < smallest_num:\n",
        "            smallest_num = num\n",
        "\n",
        "    return largest_num, smallest_num\n",
        "\n",
        "def main():\n",
        "    try:\n",
        "        # Get a valid tuple of integers from the user\n",
        "        user_tuple = get_valid_tuple_input(\"Enter a tuple of integers separated by commas : \")\n",
        "\n",
        "        # Find and display the largest and smallest elements\n",
        "        largest_num, smallest_num = find_largest_and_smallest(user_tuple)\n",
        "        print(f\"The largest element is: {largest_num}\")\n",
        "        print(f\"The smallest element is: {smallest_num}\")\n",
        "\n",
        "    except Exception as e:\n",
        "        print(f\"An error occurred: {e}\")\n",
        "\n",
        "if __name__ == \"__main__\":\n",
        "    main()\n"
      ],
      "metadata": {
        "id": "3FdLRBKOUQEd",
        "colab": {
          "base_uri": "https://localhost:8080/"
        },
        "outputId": "988bccc7-4173-4d6a-ea74-2b2a69f4b967"
      },
      "execution_count": null,
      "outputs": [
        {
          "output_type": "stream",
          "name": "stdout",
          "text": [
            "Enter a tuple of integers separated by commas : 5, 36, 52\n",
            "The largest element is: 52\n",
            "The smallest element is: 5\n"
          ]
        }
      ]
    },
    {
      "cell_type": "markdown",
      "source": [
        "(12) Write a Python program that counts the frequency of each character in a given string and stores it in a dictionary."
      ],
      "metadata": {
        "id": "O0TVi3gKUTpp"
      }
    },
    {
      "cell_type": "code",
      "source": [
        "def get_valid_string_input(input_value):\n",
        "    while True:\n",
        "        try:\n",
        "            user_input = input(input_value)\n",
        "            if not user_input:\n",
        "                raise ValueError(\"Input cannot be empty. Please enter a valid string.\")\n",
        "            return user_input\n",
        "        except ValueError as e:\n",
        "            print(f\"Error: {e}\")\n",
        "\n",
        "def count_character_frequency(input_string):\n",
        "    char_frequency = {}\n",
        "    for char in input_string:\n",
        "        if char in char_frequency:\n",
        "            char_frequency[char] += 1\n",
        "        else:\n",
        "            char_frequency[char] = 1\n",
        "    return char_frequency\n",
        "\n",
        "def display_character_frequency(char_frequency):\n",
        "    print(\"Character frequency:\")\n",
        "    for char, count in char_frequency.items():\n",
        "        print(f\"{char}: {count}\")\n",
        "\n",
        "def main():\n",
        "    try:\n",
        "        # Entering a valid string\n",
        "        user_string = get_valid_string_input(\"Enter a string: \")\n",
        "\n",
        "        # Count character frequency and display the result\n",
        "        frequency_dict = count_character_frequency(user_string)\n",
        "        display_character_frequency(frequency_dict)\n",
        "\n",
        "    except Exception as e:\n",
        "        print(f\"An error occurred: {e}\")\n",
        "\n",
        "if __name__ == \"__main__\":\n",
        "    main()\n"
      ],
      "metadata": {
        "id": "lAtfSfZXUU-h",
        "colab": {
          "base_uri": "https://localhost:8080/"
        },
        "outputId": "babb32a7-bd8f-4df2-b19f-1dcc5e62a279"
      },
      "execution_count": null,
      "outputs": [
        {
          "output_type": "stream",
          "name": "stdout",
          "text": [
            "Enter a string: Iam a good person\n",
            "Character frequency:\n",
            "I: 1\n",
            "a: 2\n",
            "m: 1\n",
            " : 3\n",
            "g: 1\n",
            "o: 3\n",
            "d: 1\n",
            "p: 1\n",
            "e: 1\n",
            "r: 1\n",
            "s: 1\n",
            "n: 1\n"
          ]
        }
      ]
    },
    {
      "cell_type": "markdown",
      "metadata": {
        "id": "0v48Vqa7FrQh"
      },
      "source": [
        "(13) Implement a Python script to identify duplicate elements in a provided array of integers. Return -1 if there are no duplicates."
      ]
    },
    {
      "cell_type": "code",
      "execution_count": null,
      "metadata": {
        "id": "7WEmgq-DF2P1",
        "colab": {
          "base_uri": "https://localhost:8080/"
        },
        "outputId": "86d4584e-6ee8-4a83-d660-efcdc5f909ae"
      },
      "outputs": [
        {
          "output_type": "stream",
          "name": "stdout",
          "text": [
            "Enter a list of integers separated by commas: 2,6,8,65,95,21\n",
            "No duplicates found in the list. Result: -1\n"
          ]
        }
      ],
      "source": [
        "def get_valid_list_input(input_value):\n",
        "    while True:\n",
        "        try:\n",
        "            user_input = input(input_value)\n",
        "            integer_list = list(map(int, user_input.split(',')))\n",
        "            return integer_list\n",
        "        except (ValueError, TypeError):\n",
        "            print(\"Invalid input. Please enter a valid list of integers.\")\n",
        "\n",
        "def find_duplicates(input_list):\n",
        "    seen = set()\n",
        "    duplicates = set()\n",
        "\n",
        "    for num in input_list:\n",
        "        if num in seen:\n",
        "            duplicates.add(num)\n",
        "        else:\n",
        "            seen.add(num)\n",
        "\n",
        "    return duplicates if duplicates else -1\n",
        "\n",
        "def main():\n",
        "    try:\n",
        "        # valid list of integers from the user\n",
        "        user_list = get_valid_list_input(\"Enter a list of integers separated by commas: \")\n",
        "\n",
        "        # Find and display the duplicate elements or -1 if no duplicates\n",
        "        result = find_duplicates(user_list)\n",
        "\n",
        "        if result == -1:\n",
        "            print(\"No duplicates found in the list. Result: -1\")\n",
        "        else:\n",
        "            print(f\"The duplicates in the list are: {list(result)}\")\n",
        "\n",
        "    except Exception as e:\n",
        "        print(f\"An error occurred: {e}\")\n",
        "\n",
        "if __name__ == \"__main__\":\n",
        "    main()\n",
        "\n"
      ]
    },
    {
      "cell_type": "markdown",
      "metadata": {
        "id": "vD5PYLMuGga_"
      },
      "source": [
        "(14) Write a Python script to find the common elements between two lists."
      ]
    },
    {
      "cell_type": "code",
      "execution_count": null,
      "metadata": {
        "id": "t0D5kdJUGjjw",
        "colab": {
          "base_uri": "https://localhost:8080/"
        },
        "outputId": "15213dd7-f611-4456-f109-06fdd911d1da"
      },
      "outputs": [
        {
          "output_type": "stream",
          "name": "stdout",
          "text": [
            "Enter the first list of integers separated by commas: 5,25,85,96,102\n",
            "Enter the second list of integers separated by commas: 15,22,68,85,99\n",
            "The common elements are: [85]\n"
          ]
        }
      ],
      "source": [
        "def get_valid_list_input(input_value):\n",
        "    while True:\n",
        "        try:\n",
        "            user_input = input(input_value)\n",
        "            integer_list = list(map(int, user_input.split(',')))\n",
        "            return integer_list\n",
        "        except (ValueError, TypeError):\n",
        "            print(\"Invalid input. Please enter a valid list of integers.\")\n",
        "\n",
        "def find_common_elements(list1, list2):\n",
        "    set1 = set(list1)\n",
        "    set2 = set(list2)\n",
        "    common_elements = set1.intersection(set2)\n",
        "    return list(common_elements)\n",
        "\n",
        "def main():\n",
        "    try:\n",
        "        # Get valid lists of integers from the user\n",
        "        list1 = get_valid_list_input(\"Enter the first list of integers separated by commas: \")\n",
        "        list2 = get_valid_list_input(\"Enter the second list of integers separated by commas: \")\n",
        "\n",
        "        # Find and display the common elements\n",
        "        common_elements = find_common_elements(list1, list2)\n",
        "\n",
        "        if not common_elements:\n",
        "            print(\"No common elements found.\")\n",
        "        else:\n",
        "            print(f\"The common elements are: {common_elements}\")\n",
        "\n",
        "    except Exception as e:\n",
        "        print(f\"An error occurred: {e}\")\n",
        "\n",
        "if __name__ == \"__main__\":\n",
        "    main()\n",
        "\n"
      ]
    },
    {
      "cell_type": "markdown",
      "metadata": {
        "id": "uHkd-y5VhVWC"
      },
      "source": [
        "(15) Write a Python program to randomly divide the students in this class into six groups for term projects, each group should have at least 4 students but no more than 6 students (including 6).\n",
        "\n",
        "Here is the students list:\n",
        "\n",
        "student_list_spring_2024=[rb0846,\n",
        "ac1964,\n",
        "hc0612,\n",
        "md0912,\n",
        "ad1198,\n",
        "md0894,\n",
        "md0825,\n",
        "vg0598,\n",
        "vg0433,\n",
        "mh1068,\n",
        "yj0173,\n",
        "pk0553,\n",
        "tk0411,\n",
        "srk0204,\n",
        "sk2922,\n",
        "sk2936,\n",
        "mk1302,\n",
        "mk1317,\n",
        "tk0412,\n",
        "vk0656,\n",
        "sm2985,\n",
        "mm2372,\n",
        "un0045,\n",
        "an0892,\n",
        "sn0913,\n",
        "gp0252,\n",
        "ap1484,\n",
        "mr1765,\n",
        "sr1385,\n",
        "sr1335,\n",
        "hs0665,\n",
        "ms2060,\n",
        "gt0217,\n",
        "nt0385,\n",
        "tv0186,\n",
        "sv1394,\n",
        "sv1752,\n",
        "sv1555,\n",
        "sy0594\n",
        "]\n"
      ]
    },
    {
      "cell_type": "code",
      "execution_count": null,
      "metadata": {
        "id": "3iGbmcOBhTwy",
        "colab": {
          "base_uri": "https://localhost:8080/"
        },
        "outputId": "57260311-98f4-4098-b0f9-e1d830f37cd5"
      },
      "outputs": [
        {
          "output_type": "stream",
          "name": "stdout",
          "text": [
            "Group 1: mk1317, ap1484, vk0656, yj0173, md0894\n",
            "Group 2: tk0411, sm2985, tk0412, sn0913, vg0598\n",
            "Group 3: nt0385, rb0846, tv0186, hc0612, ac1964\n",
            "Group 4: sv1752, mk1302, md0825, un0045, ms2060\n",
            "Group 5: an0892, sv1394, md0912, hs0665, sy0594\n",
            "Group 6: gt0217, sr1385, pk0553, sv1555, mr1765\n",
            "Group 7: sr1335, sk2922, sk2936, gp0252, mh1068\n",
            "Group 8: mm2372, vg0433, srk0204, ad1198\n"
          ]
        }
      ],
      "source": [
        "import random\n",
        "\n",
        "# Function to randomly divide students into groups\n",
        "def divide_students_into_groups(student_list, min_group_size, max_group_size):\n",
        "    # Shuffle the student list to ensure randomness\n",
        "    random.shuffle(student_list)\n",
        "\n",
        "    # Initialize an empty list to store groups\n",
        "    groups = []\n",
        "\n",
        "    # Determine the number of students per group\n",
        "    students_per_group = random.randint(min_group_size, max_group_size)\n",
        "\n",
        "    # Iterate through the student list to form groups\n",
        "    for i in range(0, len(student_list), students_per_group):\n",
        "        group = student_list[i:i + students_per_group]\n",
        "        groups.append(group)\n",
        "\n",
        "    return groups\n",
        "\n",
        "# Students list for Spring 2024\n",
        "student_list_spring_2024 = ['rb0846', 'ac1964', 'hc0612', 'md0912', 'ad1198', 'md0894', 'md0825', 'vg0598', 'vg0433', 'mh1068', 'yj0173', 'pk0553', 'tk0411', 'srk0204', 'sk2922', 'sk2936', 'mk1302', 'mk1317', 'tk0412', 'vk0656', 'sm2985', 'mm2372', 'un0045', 'an0892', 'sn0913', 'gp0252', 'ap1484', 'mr1765', 'sr1385', 'sr1335', 'hs0665', 'ms2060', 'gt0217', 'nt0385', 'tv0186', 'sv1394', 'sv1752', 'sv1555', 'sy0594']\n",
        "\n",
        "# Specify the minimum and maximum group size\n",
        "min_group_size = 4\n",
        "max_group_size = 6\n",
        "\n",
        "# Divide students into groups and display the result\n",
        "groups_result = divide_students_into_groups(student_list_spring_2024, min_group_size, max_group_size)\n",
        "\n",
        "# Display the groups\n",
        "for i, group in enumerate(groups_result, start=1):\n",
        "    print(f\"Group {i}: {', '.join(group)}\")\n",
        "\n"
      ]
    },
    {
      "cell_type": "markdown",
      "metadata": {
        "id": "fmZ9vX20Qs3d"
      },
      "source": [
        "(16) Create a program that takes a positive integer 'n' as input and prints the count of even numbers from 1 to 'n'. Optimize the loop using the break statement."
      ]
    },
    {
      "cell_type": "code",
      "execution_count": null,
      "metadata": {
        "id": "W8Jw6sWMQs3d",
        "colab": {
          "base_uri": "https://localhost:8080/"
        },
        "outputId": "4cfa335d-8874-4963-a9c5-734e61cf5e78"
      },
      "outputs": [
        {
          "output_type": "stream",
          "name": "stdout",
          "text": [
            "Enter a positive integer 'n': 15\n",
            "The count of even numbers from 1 to 15 is: 7\n"
          ]
        }
      ],
      "source": [
        "# Function to validate positive input\n",
        "def get_positive_integer():\n",
        "    while True:\n",
        "        user_input = input(\"Enter a positive integer 'n': \")\n",
        "        if user_input.isdigit() and int(user_input) > 0:\n",
        "            return int(user_input)\n",
        "        else:\n",
        "            print(\"Please enter a valid positive integer.\")\n",
        "\n",
        "            break\n",
        "\n",
        "# Function to count even numbers from 1 to n\n",
        "def count_even_numbers(n):\n",
        "    count = 0\n",
        "\n",
        "    for i in range(1, n + 1):\n",
        "        if i % 2 == 0:\n",
        "            count += 1\n",
        "\n",
        "    return count\n",
        "\n",
        "def main():\n",
        "    # Input\n",
        "    user_input = get_positive_integer()\n",
        "\n",
        "    # Calculate and display the count of even numbers\n",
        "    even_count = count_even_numbers(user_input)\n",
        "    print(f\"The count of even numbers from 1 to {user_input} is: {even_count}\")\n",
        "\n",
        "if __name__ == \"__main__\":\n",
        "    main()\n",
        "\n"
      ]
    },
    {
      "cell_type": "markdown",
      "metadata": {
        "id": "hvq4APMhQs3d"
      },
      "source": [
        "(17) Develop a Python function called 'count_vowels' that takes a string as input and returns the count of vowels (both lowercase and uppercase) present in the string, ignoring spaces and non-alphabetic characters."
      ]
    },
    {
      "cell_type": "code",
      "execution_count": null,
      "metadata": {
        "id": "ZnoxhSglQs3d",
        "colab": {
          "base_uri": "https://localhost:8080/"
        },
        "outputId": "905ce58c-42ac-4f7b-e4f0-367c6a5a1ab6"
      },
      "outputs": [
        {
          "output_type": "stream",
          "name": "stdout",
          "text": [
            "Enter a string: Manaswini\n",
            "The count of vowels in the string is: 4\n"
          ]
        }
      ],
      "source": [
        "# Function to check if a character is a vowel\n",
        "def is_vowel(char):\n",
        "    vowels = \"aeiouAEIOU\"\n",
        "    return char in vowels\n",
        "\n",
        "# Function to count vowels in a given string\n",
        "def count_vowels(input_string):\n",
        "    count = 0\n",
        "\n",
        "    for char in input_string:\n",
        "        if char.isalpha() and is_vowel(char):\n",
        "            count += 1\n",
        "\n",
        "    return count\n",
        "\n",
        "# Main function for testing\n",
        "def main():\n",
        "    user_input = input(\"Enter a string: \")\n",
        "    result = count_vowels(user_input)\n",
        "    print(f\"The count of vowels in the string is: {result}\")\n",
        "\n",
        "if __name__ == \"__main__\":\n",
        "    main()\n",
        "\n"
      ]
    },
    {
      "cell_type": "markdown",
      "source": [
        "(18) Create a custom exception named ValueTooSmallError in Python. Write a program that takes user input for an age, and if the entered age is less than 18, raise the ValueTooSmallError with an appropriate error message."
      ],
      "metadata": {
        "id": "55FWoSJPVVM6"
      }
    },
    {
      "cell_type": "code",
      "source": [
        "# Custom exception for a value too small\n",
        "class ValueTooSmallError(Exception):\n",
        "    def __init__(self, message=\"Value is too small. Age must be 18 or older.\"):\n",
        "        self.message = message\n",
        "        super().__init__(self.message)\n",
        "\n",
        "# Function to validate age input\n",
        "def get_user_age():\n",
        "    while True:\n",
        "        try:\n",
        "            user_age = int(input(\"Enter your age: \"))\n",
        "            if user_age < 18:\n",
        "                raise ValueTooSmallError()\n",
        "            return user_age\n",
        "        except ValueError:\n",
        "            print(\"Please enter a valid integer for age.\")\n",
        "        except ValueTooSmallError as vts_error:\n",
        "            print(vts_error)\n",
        "\n",
        "# Main function for testing\n",
        "def main():\n",
        "    try:\n",
        "        age = get_user_age()\n",
        "        print(f\"Entered age: {age}\")\n",
        "    except ValueTooSmallError as vts_error:\n",
        "        print(vts_error)\n",
        "\n",
        "if __name__ == \"__main__\":\n",
        "    main()\n"
      ],
      "metadata": {
        "id": "hwtr1wZmVX5A",
        "colab": {
          "base_uri": "https://localhost:8080/"
        },
        "outputId": "480f37f2-b37d-4ce8-bf63-d9c3f94abf3b"
      },
      "execution_count": null,
      "outputs": [
        {
          "output_type": "stream",
          "name": "stdout",
          "text": [
            "Enter your age: 15\n",
            "Value is too small. Age must be 18 or older.\n",
            "Enter your age: 25\n",
            "Entered age: 25\n"
          ]
        }
      ]
    },
    {
      "cell_type": "markdown",
      "source": [
        "(19) Develop a script that reverses a given string without using built-in reverse functions."
      ],
      "metadata": {
        "id": "Q9ecagcaVazW"
      }
    },
    {
      "cell_type": "code",
      "source": [
        "# Function to reverse a string without using built-in reverse functions\n",
        "def reverse_string(input_string):\n",
        "    reversed_str = \"\"\n",
        "    for char in input_string:\n",
        "        reversed_str = char + reversed_str\n",
        "    return reversed_str\n",
        "\n",
        "# Main function for testing\n",
        "def main():\n",
        "    user_input = input(\"Enter a string: \")\n",
        "    reversed_result = reverse_string(user_input)\n",
        "    print(f\"The reversed string is: {reversed_result}\")\n",
        "\n",
        "if __name__ == \"__main__\":\n",
        "    main()\n",
        "\n"
      ],
      "metadata": {
        "id": "gycgckoAVZjR",
        "colab": {
          "base_uri": "https://localhost:8080/"
        },
        "outputId": "073ed0c1-44a8-4839-c293-0c24e0bb12c2"
      },
      "execution_count": null,
      "outputs": [
        {
          "output_type": "stream",
          "name": "stdout",
          "text": [
            "Enter a string: introvert\n",
            "The reversed string is: trevortni\n"
          ]
        }
      ]
    },
    {
      "cell_type": "markdown",
      "source": [
        "(20) Implement a Python script to generate a random password of a specified length."
      ],
      "metadata": {
        "id": "ZFG6RibifMLu"
      }
    },
    {
      "cell_type": "code",
      "source": [
        "import random\n",
        "import string\n",
        "\n",
        "# Function to generate a random password of a specified length\n",
        "def generate_random_password(length):\n",
        "    characters = string.ascii_letters + string.digits + string.punctuation\n",
        "    password = ''.join(random.choice(characters) for _ in range(length))\n",
        "    return password\n",
        "\n",
        "# Main function\n",
        "def main():\n",
        "    try:\n",
        "        password_length = int(input(\"Enter the length of the password: \"))\n",
        "        if password_length <= 0:\n",
        "            raise ValueError(\"Password length must be a positive integer.\")\n",
        "\n",
        "        password = generate_random_password(password_length)\n",
        "        print(f\"Generated Password: {password}\")\n",
        "\n",
        "    except ValueError as ve:\n",
        "        print(f\"Error: {ve}\")\n",
        "\n",
        "if __name__ == \"__main__\":\n",
        "    main()\n"
      ],
      "metadata": {
        "id": "BFVrkEi9fNiD",
        "colab": {
          "base_uri": "https://localhost:8080/"
        },
        "outputId": "d423f51a-0209-46d0-d7de-ded439e0c57c"
      },
      "execution_count": null,
      "outputs": [
        {
          "output_type": "stream",
          "name": "stdout",
          "text": [
            "Enter the length of the password: 10\n",
            "Generated Password: R3.fiek:XA\n"
          ]
        }
      ]
    },
    {
      "cell_type": "markdown",
      "source": [
        "# Try these questions:"
      ],
      "metadata": {
        "id": "6SmvS7nSfbj8"
      }
    },
    {
      "cell_type": "markdown",
      "source": [
        "(21) Define a base class called 'Vehicle' with attributes make and model. Create a derived class Car that inherits from Vehicle and has an additional attribute 'num_doors'. Demonstrate an example of creating an instance of the 'Car' class and accessing its attributes."
      ],
      "metadata": {
        "id": "cboAr5pEWUf5"
      }
    },
    {
      "cell_type": "code",
      "source": [
        "# Generic base class 'Vehicle'\n",
        "class Vehicle:\n",
        "    def __init__(self, make, model):\n",
        "        self.make = make\n",
        "        self.model = model\n",
        "\n",
        "#  class 'Car' inheriting from 'Vehicle'\n",
        "class Car(Vehicle):\n",
        "    def __init__(self, make, model, num_doors):\n",
        "        # Invoke the constructor of the base class\n",
        "        super().__init__(make, model)\n",
        "        # Introduce a specific attribute for the derived class\n",
        "        self.num_doors = num_doors\n",
        "\n",
        "# Entry point for testing\n",
        "def main():\n",
        "    # Prompt user for input\n",
        "    user_make = input(\"Enter the make of the car: \")\n",
        "    user_model = input(\"Enter the model of the car: \")\n",
        "    user_num_doors = int(input(\"Enter the number of doors: \"))\n",
        "\n",
        "    # Instantiate an object of the 'Car' class using user input\n",
        "    my_car = Car(make=user_make, model=user_model, num_doors=user_num_doors)\n",
        "\n",
        "    # Access and display attributes of the 'Car' instance\n",
        "    print(f\"Make: {my_car.make}\")\n",
        "    print(f\"Model: {my_car.model}\")\n",
        "    print(f\"Number of Doors: {my_car.num_doors}\")\n",
        "\n",
        "if __name__ == \"__main__\":\n",
        "    main()\n",
        "\n",
        "\n"
      ],
      "metadata": {
        "id": "phs9gciMWWAW",
        "colab": {
          "base_uri": "https://localhost:8080/"
        },
        "outputId": "340f732f-06ee-44ea-d6c8-03286d6cbafd"
      },
      "execution_count": null,
      "outputs": [
        {
          "output_type": "stream",
          "name": "stdout",
          "text": [
            "Enter the make of the car: Honda\n",
            "Enter the model of the car: WRV\n",
            "Enter the number of doors: 4\n",
            "Make: Honda\n",
            "Model: WRV\n",
            "Number of Doors: 4\n"
          ]
        }
      ]
    },
    {
      "cell_type": "markdown",
      "source": [
        "(22) Create a class called 'Shape' with a method calculate_area(). Implement two derived classes 'Circle' and 'Rectangle' that inherit from Shape and override the calculate_area() method. Demonstrate polymorphism by creating instances of both derived classes and calling the calculate_area() method."
      ],
      "metadata": {
        "id": "J8HHefNtePwd"
      }
    },
    {
      "cell_type": "code",
      "source": [
        "# base class 'Shape'\n",
        "class Shape:\n",
        "    def calculate_area(self):\n",
        "        raise NotImplementedError(\"Subclasses must implement the calculate_area() method.\")\n",
        "\n",
        "#  class 'Circle' inheriting from 'Shape'\n",
        "class Circle(Shape):\n",
        "    def __init__(self, radius):\n",
        "        self.radius = radius\n",
        "\n",
        "    def calculate_area(self):\n",
        "        return 3.14 * self.radius**2\n",
        "\n",
        "#  class 'Rectangle' inheriting from 'Shape'\n",
        "class Rectangle(Shape):\n",
        "    def __init__(self, length, width):\n",
        "        self.length = length\n",
        "        self.width = width\n",
        "\n",
        "    def calculate_area(self):\n",
        "        return self.length * self.width\n",
        "\n",
        "# Entry point for testing\n",
        "def demonstrate_polymorphism(circle_radius, rectangle_length, rectangle_width):\n",
        "    # Instantiate objects of 'Circle' and 'Rectangle' classes\n",
        "    my_circle = Circle(radius=circle_radius)\n",
        "    my_rectangle = Rectangle(length=rectangle_length, width=rectangle_width)\n",
        "\n",
        "    # Calculate and display areas using polymorphism\n",
        "    print(f\"Area of the Circle: {my_circle.calculate_area()}\")\n",
        "    print(f\"Area of the Rectangle: {my_rectangle.calculate_area()}\")\n",
        "\n",
        "# Call the testing function with specific parameters\n",
        "demonstrate_polymorphism(circle_radius=5, rectangle_length=4, rectangle_width=6)\n"
      ],
      "metadata": {
        "id": "btnMmUZDeRhS",
        "colab": {
          "base_uri": "https://localhost:8080/"
        },
        "outputId": "59b55112-5f2d-4b1f-b983-6551724996db"
      },
      "execution_count": null,
      "outputs": [
        {
          "output_type": "stream",
          "name": "stdout",
          "text": [
            "Area of the Circle: 78.5\n",
            "Area of the Rectangle: 24\n"
          ]
        }
      ]
    },
    {
      "cell_type": "markdown",
      "source": [
        "(23) Write a Python program that prompts the user to enter two numbers and perform a division operation. Handle exceptions for both zero division and invalid input (non-numeric input). Display appropriate error messages for each type of exception and ensure the program does not crash due to these errors."
      ],
      "metadata": {
        "id": "z0oqEAlTeMUS"
      }
    },
    {
      "cell_type": "code",
      "source": [
        "def get_user_input():\n",
        "    while True:\n",
        "        try:\n",
        "            user_input = input(\"Enter a number: \")\n",
        "            return float(user_input)\n",
        "        except ValueError:\n",
        "            print(\"Invalid input. Please enter a numeric value.\")\n",
        "\n",
        "def perform_division():\n",
        "    while True:\n",
        "        try:\n",
        "            numerator = get_user_input()\n",
        "            denominator = get_user_input()\n",
        "\n",
        "            result = numerator / denominator\n",
        "\n",
        "            print(f\"The result of the division is: {result}\")\n",
        "            break\n",
        "\n",
        "        except ZeroDivisionError:\n",
        "            print(\"Error: Division by zero is not allowed.\")\n",
        "        except ValueError:\n",
        "            print(\"Invalid input. Please enter numeric values.\")\n",
        "\n",
        "def main():\n",
        "    print(\"Division Program\")\n",
        "    perform_division()\n",
        "\n",
        "if __name__ == \"__main__\":\n",
        "    main()\n"
      ],
      "metadata": {
        "id": "yjdc1zM1eMAs",
        "colab": {
          "base_uri": "https://localhost:8080/"
        },
        "outputId": "12b8093c-cfca-4859-9339-f0c023d71add"
      },
      "execution_count": null,
      "outputs": [
        {
          "output_type": "stream",
          "name": "stdout",
          "text": [
            "Division Program\n",
            "Enter a number: 21\n",
            "Enter a number: 0\n",
            "Error: Division by zero is not allowed.\n",
            "Enter a number: 12\n",
            "Enter a number: 6\n",
            "The result of the division is: 2.0\n"
          ]
        }
      ]
    },
    {
      "cell_type": "markdown",
      "source": [
        "# Mandatory Question"
      ],
      "metadata": {
        "id": "sZOhks1dXWEe"
      }
    },
    {
      "cell_type": "markdown",
      "source": [
        "**Important:**\n",
        "Reflecting on the first three lectures and the exercises you've completed, please provide feedback on your learning experience. Share your thoughts on whether the material covered was clear, the exercises were helpful, and if you feel more confident in applying Python programming concepts. Additionally, mention any specific areas where you would like more clarification or topics you would like to explore further in future lectures. Your feedback is valuable in shaping the course for an effective learning journey."
      ],
      "metadata": {
        "id": "eqmHVEwaWhbV"
      }
    },
    {
      "cell_type": "markdown",
      "source": [
        "Write your response here"
      ],
      "metadata": {
        "id": "HlpXOT9wXQAd"
      }
    },
    {
      "cell_type": "code",
      "source": [
        "# I am a person where I was at the zero level of coding language. I have tried to understand some basic topics first , hoping I will become better in coming days of this course. of this course. I took help of external sources to get the solutions. The meetings with which the experience people interacted was so informative and helpful to gain knowledge on wide range of topics."
      ],
      "metadata": {
        "id": "Dq2aOZU7XIke"
      },
      "execution_count": null,
      "outputs": []
    }
  ],
  "metadata": {
    "colab": {
      "provenance": [],
      "include_colab_link": true
    },
    "kernelspec": {
      "display_name": "Python 3 (ipykernel)",
      "language": "python",
      "name": "python3"
    },
    "language_info": {
      "codemirror_mode": {
        "name": "ipython",
        "version": 3
      },
      "file_extension": ".py",
      "mimetype": "text/x-python",
      "name": "python",
      "nbconvert_exporter": "python",
      "pygments_lexer": "ipython3",
      "version": "3.9.12"
    }
  },
  "nbformat": 4,
  "nbformat_minor": 0
}